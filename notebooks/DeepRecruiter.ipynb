{
 "cells": [
  {
   "cell_type": "markdown",
   "source": [
    "# Import Libraries"
   ],
   "metadata": {}
  },
  {
   "cell_type": "code",
   "execution_count": 32,
   "source": [
    "import transformers \r\n",
    "from sentence_transformers import SentenceTransformer, util"
   ],
   "outputs": [],
   "metadata": {}
  },
  {
   "cell_type": "markdown",
   "source": [
    "# Recruiting Engine"
   ],
   "metadata": {}
  },
  {
   "cell_type": "code",
   "execution_count": 33,
   "source": [
    "ranking_model = SentenceTransformer('sentence-transformers/all-distilroberta-v1')"
   ],
   "outputs": [],
   "metadata": {}
  },
  {
   "cell_type": "code",
   "execution_count": 34,
   "source": [
    "class DeepRecruiter:\r\n",
    "    \"\"\"\r\n",
    "    an interface for presenting words or sentences into their embedding representations\r\n",
    "    Args:\r\n",
    "       model (str): a language model\r\n",
    "    \"\"\"\r\n",
    "    def __init__(self, model):\r\n",
    "        self.model = model \r\n",
    "\r\n",
    "    def generate_embeddings(self, customer_problem, candidate_abilities):\r\n",
    "        \"\"\"\r\n",
    "        Given two sentences or paragraphs, encode them to their \r\n",
    "        embeddings representation \r\n",
    "        \"\"\"\r\n",
    "        customer_problem_embeddings = self.model.encode(customer_problem)\r\n",
    "        candidate_abilities_embeddings = self.model.encode(candidate_abilities)\r\n",
    "        return customer_problem_embeddings, candidate_abilities_embeddings\r\n",
    "    \r\n",
    "    def compute_similarity(self, customer_problem, candidate_abilities):\r\n",
    "        \"\"\"\r\n",
    "        Given word embeddings, compute their cosine similarity \r\n",
    "        \"\"\"\r\n",
    "        customer_problem_embeddings, candidate_abilities_embeddings = self.generate_embeddings(customer_problem, candidate_abilities)\r\n",
    "        cos_score = util.pytorch_cos_sim(customer_problem_embeddings, candidate_abilities_embeddings)\r\n",
    "        return cos_score.item()*100\r\n"
   ],
   "outputs": [],
   "metadata": {}
  },
  {
   "cell_type": "code",
   "execution_count": 42,
   "source": [
    "%%time\r\n",
    "RecruitingEngine = DeepRecruiter(ranking_model)"
   ],
   "outputs": [
    {
     "output_type": "stream",
     "name": "stdout",
     "text": [
      "Wall time: 0 ns\n"
     ]
    }
   ],
   "metadata": {}
  },
  {
   "cell_type": "code",
   "execution_count": 43,
   "source": [
    "RecruitingEngine.compute_similarity(\"I need help switch my computer on, it cannot switch on, anyone who can help fix it?\", \"I fix computers and all other electronics\")"
   ],
   "outputs": [
    {
     "output_type": "execute_result",
     "data": {
      "text/plain": [
       "25.161314010620117"
      ]
     },
     "metadata": {},
     "execution_count": 43
    }
   ],
   "metadata": {}
  },
  {
   "cell_type": "code",
   "execution_count": 44,
   "source": [
    "RecruitingEngine.compute_similarity(\"I need help switch my computer on, it cannot switch on, anyone who can help fix it?\", \"I fix doors\")"
   ],
   "outputs": [
    {
     "output_type": "execute_result",
     "data": {
      "text/plain": [
       "6.492625176906586"
      ]
     },
     "metadata": {},
     "execution_count": 44
    }
   ],
   "metadata": {}
  },
  {
   "cell_type": "code",
   "execution_count": null,
   "source": [],
   "outputs": [],
   "metadata": {}
  }
 ],
 "metadata": {
  "orig_nbformat": 4,
  "language_info": {
   "name": "python",
   "version": "3.9.6",
   "mimetype": "text/x-python",
   "codemirror_mode": {
    "name": "ipython",
    "version": 3
   },
   "pygments_lexer": "ipython3",
   "nbconvert_exporter": "python",
   "file_extension": ".py"
  },
  "kernelspec": {
   "name": "python3",
   "display_name": "Python 3.9.6 64-bit ('AI': conda)"
  },
  "interpreter": {
   "hash": "fda7c9719fce10a66e94bfe331e7b4d1cdd4aec76db5a8a650c67c0af0f14437"
  }
 },
 "nbformat": 4,
 "nbformat_minor": 2
}