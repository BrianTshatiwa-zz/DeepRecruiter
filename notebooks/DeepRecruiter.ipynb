{
 "cells": [
  {
   "cell_type": "markdown",
   "source": [
    "# Import libraries"
   ],
   "metadata": {}
  },
  {
   "cell_type": "code",
   "execution_count": 2,
   "source": [
    "from sentence_transformers import SentenceTransformer, util\r\n",
    "import transformers"
   ],
   "outputs": [],
   "metadata": {}
  },
  {
   "cell_type": "markdown",
   "source": [
    "# Recruiting Engine"
   ],
   "metadata": {}
  },
  {
   "cell_type": "code",
   "execution_count": 127,
   "source": [
    "model = SentenceTransformer('sentence-transformers/all-distilroberta-v1')"
   ],
   "outputs": [],
   "metadata": {}
  },
  {
   "cell_type": "code",
   "execution_count": 142,
   "source": [
    "def compute_similarity(customer_problem, candidate_abilities):\r\n",
    "   \"\"\"\r\n",
    "   helper function which computes a cosine similarity of candidate abilities \r\n",
    "   against customer problem\r\n",
    "   args:\r\n",
    "      customer_problem: str\r\n",
    "      candidate_abilities: str\r\n",
    "   returns:\r\n",
    "      cos_score: int\r\n",
    "   \"\"\"\r\n",
    "   customer_problem_embeddings = model.encode(customer_problem)\r\n",
    "   candidate_abilities_embeddings = model.encode(candidate_abilities)\r\n",
    "   cos_score = util.pytorch_cos_sim(customer_problem_embeddings, candidate_abilities_embeddings)\r\n",
    "   return cos_score.item()"
   ],
   "outputs": [],
   "metadata": {}
  },
  {
   "cell_type": "code",
   "execution_count": 143,
   "source": [
    "try:\r\n",
    "    cos_score = compute_similarity(\"I am need problem with my laptop, it fails switching on\", \"I am very good with fixing computers, especially making them be able to switch on\")\r\n",
    "    print(f\"Cos_score type: {type(cos_score)}, Cos_score: {cos_score}\")\r\n",
    "except Exception as e:\r\n",
    "    print(\"ERROR: \", e)\r\n",
    "    pass"
   ],
   "outputs": [
    {
     "output_type": "stream",
     "name": "stdout",
     "text": [
      "Cos_score type: <class 'float'>, Cos_score: 0.309735506772995\n"
     ]
    }
   ],
   "metadata": {}
  },
  {
   "cell_type": "code",
   "execution_count": 145,
   "source": [
    "print(compute_similarity(\"I am need problem with my laptop, it fails switching on\", \"I fix doors\"))"
   ],
   "outputs": [
    {
     "output_type": "stream",
     "name": "stdout",
     "text": [
      "0.02466220036149025\n"
     ]
    }
   ],
   "metadata": {}
  },
  {
   "cell_type": "code",
   "execution_count": null,
   "source": [],
   "outputs": [],
   "metadata": {}
  }
 ],
 "metadata": {
  "orig_nbformat": 4,
  "language_info": {
   "name": "python",
   "version": "3.9.6",
   "mimetype": "text/x-python",
   "codemirror_mode": {
    "name": "ipython",
    "version": 3
   },
   "pygments_lexer": "ipython3",
   "nbconvert_exporter": "python",
   "file_extension": ".py"
  },
  "kernelspec": {
   "name": "python3",
   "display_name": "Python 3.9.6 64-bit ('AI': conda)"
  },
  "interpreter": {
   "hash": "fda7c9719fce10a66e94bfe331e7b4d1cdd4aec76db5a8a650c67c0af0f14437"
  }
 },
 "nbformat": 4,
 "nbformat_minor": 2
}