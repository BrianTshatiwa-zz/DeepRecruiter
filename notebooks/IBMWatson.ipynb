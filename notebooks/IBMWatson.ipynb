{
 "cells": [
  {
   "cell_type": "markdown",
   "source": [
    "# Import libraries"
   ],
   "metadata": {}
  },
  {
   "cell_type": "code",
   "execution_count": 7,
   "source": [
    "import json \r\n",
    "from ibm_watson import NaturalLanguageUnderstandingV1\r\n",
    "from ibm_cloud_sdk_core.authenticators import IAMAuthenticator\r\n",
    "from ibm_watson.natural_language_understanding_v1 import Features, SentimentOptions, EntitiesOptions"
   ],
   "outputs": [],
   "metadata": {}
  },
  {
   "cell_type": "markdown",
   "source": [
    "# IBM Authentication"
   ],
   "metadata": {}
  },
  {
   "cell_type": "code",
   "execution_count": 3,
   "source": [
    "authenticator = IAMAuthenticator('AjKlf0_xCdHgGtBau7lhw3O4pNZRa-XdO7tRbH8DVziP')\r\n",
    "natural_language_understanding = NaturalLanguageUnderstandingV1(\r\n",
    "    version='2021-08-01',\r\n",
    "    authenticator=authenticator\r\n",
    ")\r\n",
    "natural_language_understanding.set_service_url('https://api.au-syd.natural-language-understanding.watson.cloud.ibm.com/instances/fa589d70-733d-4dc3-8a16-caa0621b6b08')"
   ],
   "outputs": [],
   "metadata": {}
  },
  {
   "cell_type": "markdown",
   "source": [
    "# Emotional Analyzes"
   ],
   "metadata": {}
  },
  {
   "cell_type": "code",
   "execution_count": 4,
   "source": [
    "def get_emotion(text):\r\n",
    "    \"\"\"\r\n",
    "    an interface for extracting emotions from a text\r\n",
    "    Args: \r\n",
    "       text (str): Any text \r\n",
    "    \"\"\"\r\n",
    "    response = natural_language_understanding.analyze(\r\n",
    "        text=text, \r\n",
    "        features=Features(sentiment=SentimentOptions())\r\n",
    "    ).get_result()\r\n",
    "    emotion = response['sentiment']['document']['label']\r\n",
    "    return emotion\r\n"
   ],
   "outputs": [],
   "metadata": {}
  },
  {
   "cell_type": "code",
   "execution_count": 5,
   "source": [
    "get_emotion(\"I am very happy with the service, i would consider the guy again\")"
   ],
   "outputs": [
    {
     "output_type": "execute_result",
     "data": {
      "text/plain": [
       "'positive'"
      ]
     },
     "metadata": {},
     "execution_count": 5
    }
   ],
   "metadata": {}
  },
  {
   "cell_type": "code",
   "execution_count": 6,
   "source": [
    "get_emotion(\"The service was very bad, not taking the guy again\")"
   ],
   "outputs": [
    {
     "output_type": "execute_result",
     "data": {
      "text/plain": [
       "'negative'"
      ]
     },
     "metadata": {},
     "execution_count": 6
    }
   ],
   "metadata": {}
  }
 ],
 "metadata": {
  "orig_nbformat": 4,
  "language_info": {
   "name": "python",
   "version": "3.9.6",
   "mimetype": "text/x-python",
   "codemirror_mode": {
    "name": "ipython",
    "version": 3
   },
   "pygments_lexer": "ipython3",
   "nbconvert_exporter": "python",
   "file_extension": ".py"
  },
  "kernelspec": {
   "name": "python3",
   "display_name": "Python 3.9.6 64-bit ('AI': conda)"
  },
  "interpreter": {
   "hash": "fda7c9719fce10a66e94bfe331e7b4d1cdd4aec76db5a8a650c67c0af0f14437"
  }
 },
 "nbformat": 4,
 "nbformat_minor": 2
}