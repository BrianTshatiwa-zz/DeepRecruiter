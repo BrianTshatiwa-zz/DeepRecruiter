{
 "cells": [
  {
   "cell_type": "markdown",
   "source": [
    "# Import libraries"
   ],
   "metadata": {}
  },
  {
   "cell_type": "code",
   "execution_count": 1,
   "source": [
    "import json \r\n",
    "from ibm_watson import NaturalLanguageUnderstandingV1\r\n",
    "from ibm_cloud_sdk_core.authenticators import IAMAuthenticator\r\n",
    "from ibm_watson.natural_language_understanding_v1 import Features, SentimentOptions, EntitiesOptions"
   ],
   "outputs": [],
   "metadata": {}
  },
  {
   "cell_type": "markdown",
   "source": [
    "# IBM Authentication"
   ],
   "metadata": {}
  },
  {
   "cell_type": "code",
   "execution_count": 37,
   "source": [
    "authenticator = IAMAuthenticator('AjKlf0_xCdHgGtBau7lhw3O4pNZRa-XdO7tRbH8DVziP')\r\n",
    "natural_language_understanding = NaturalLanguageUnderstandingV1(\r\n",
    "    version='2021-08-01',\r\n",
    "    authenticator=authenticator\r\n",
    ")\r\n",
    "natural_language_understanding.set_service_url('https://api.au-syd.natural-language-understanding.watson.cloud.ibm.com/instances/fa589d70-733d-4dc3-8a16-caa0621b6b08')"
   ],
   "outputs": [],
   "metadata": {}
  },
  {
   "cell_type": "markdown",
   "source": [
    "# Emotional Analyzes"
   ],
   "metadata": {}
  },
  {
   "cell_type": "code",
   "execution_count": 4,
   "source": [
    "def get_emotion(text):\r\n",
    "    \"\"\"\r\n",
    "    an interface for extracting emotions from a text\r\n",
    "    Args: \r\n",
    "       text (str): Any text \r\n",
    "    \"\"\"\r\n",
    "    response = natural_language_understanding.analyze(\r\n",
    "        text=text, \r\n",
    "        features=Features(sentiment=SentimentOptions())\r\n",
    "    ).get_result()\r\n",
    "    emotion = response['sentiment']['document']['label']\r\n",
    "    return emotion\r\n"
   ],
   "outputs": [],
   "metadata": {}
  },
  {
   "cell_type": "code",
   "execution_count": 5,
   "source": [
    "get_emotion(\"I am very happy with the service, i would consider the guy again\")"
   ],
   "outputs": [
    {
     "output_type": "execute_result",
     "data": {
      "text/plain": [
       "'positive'"
      ]
     },
     "metadata": {},
     "execution_count": 5
    }
   ],
   "metadata": {}
  },
  {
   "cell_type": "code",
   "execution_count": 6,
   "source": [
    "get_emotion(\"The service was very bad, not taking the guy again\")"
   ],
   "outputs": [
    {
     "output_type": "execute_result",
     "data": {
      "text/plain": [
       "'negative'"
      ]
     },
     "metadata": {},
     "execution_count": 6
    }
   ],
   "metadata": {}
  },
  {
   "cell_type": "markdown",
   "source": [
    "# Watson Assistant"
   ],
   "metadata": {}
  },
  {
   "cell_type": "code",
   "execution_count": 14,
   "source": [
    "from ibm_watson import AssistantV2\r\n",
    "from ibm_cloud_sdk_core.authenticators import IAMAuthenticator\r\n",
    "\r\n",
    "authenticator = IAMAuthenticator('LpSsKfmftL_uY9YwZaU0EB1loon452SRqKcIzSf-1FtT')\r\n",
    "assistant = AssistantV2(\r\n",
    "    version='2021-06-14',\r\n",
    "    authenticator=authenticator\r\n",
    ")\r\n",
    "\r\n",
    "assistant.set_service_url('https://api.au-syd.assistant.watson.cloud.ibm.com/instances/a0af3ba6-dd17-4c32-8c68-7baf4be258da')"
   ],
   "outputs": [],
   "metadata": {}
  },
  {
   "cell_type": "code",
   "execution_count": 27,
   "source": [
    "def get_intent(text):\r\n",
    "    \"\"\"\r\n",
    "    an interface for detecting intent\r\n",
    "    Args:\r\n",
    "      text (str): greeting or anything \r\n",
    "    \"\"\"\r\n",
    "    response = assistant.message_stateless(\r\n",
    "        assistant_id='b9d51a2d-ee20-479a-ad6f-cebfc4661f0e', \r\n",
    "        input={\r\n",
    "            'message_type':'text',\r\n",
    "            'text':text\r\n",
    "        }\r\n",
    "    ).get_result()\r\n",
    "    return response['output']['intents'][0]['intent']"
   ],
   "outputs": [],
   "metadata": {}
  },
  {
   "cell_type": "code",
   "execution_count": 71,
   "source": [
    "matching = ['score':12, 'name':'kutlwano']\r\n",
    "Candidate = {'score':2, 'name':'tlhogi'}\r\n",
    "hello= {'score':100, 'name':'Tatuta'}\r\n"
   ],
   "outputs": [],
   "metadata": {}
  },
  {
   "cell_type": "code",
   "execution_count": 72,
   "source": [
    "possible_mathes = []\r\n",
    "possible_mathes.append(matching)\r\n",
    "possible_mathes.append(Candidate)\r\n",
    "possible_mathes.append(hello)"
   ],
   "outputs": [],
   "metadata": {}
  },
  {
   "cell_type": "code",
   "execution_count": 80,
   "source": [
    "for match in possible_mathes:\r\n",
    "    b"
   ],
   "outputs": [
    {
     "output_type": "stream",
     "name": "stdout",
     "text": [
      "{'score': 12, 'name': 'kutlwano'}\n",
      "{'score': 2, 'name': 'tlhogi'}\n",
      "{'score': 100, 'name': 'Tatuta'}\n"
     ]
    }
   ],
   "metadata": {}
  },
  {
   "cell_type": "code",
   "execution_count": 76,
   "source": [
    "try:\r\n",
    "    "
   ],
   "outputs": [
    {
     "output_type": "error",
     "ename": "TypeError",
     "evalue": "list indices must be integers or slices, not list",
     "traceback": [
      "\u001b[1;31m---------------------------------------------------------------------------\u001b[0m",
      "\u001b[1;31mTypeError\u001b[0m                                 Traceback (most recent call last)",
      "\u001b[1;32m~\\AppData\\Local\\Temp/ipykernel_7296/1097923830.py\u001b[0m in \u001b[0;36m<module>\u001b[1;34m\u001b[0m\n\u001b[1;32m----> 1\u001b[1;33m \u001b[0mpossible_mathes\u001b[0m\u001b[1;33m[\u001b[0m\u001b[1;33m[\u001b[0m\u001b[1;34m'score'\u001b[0m\u001b[1;33m]\u001b[0m\u001b[1;33m]\u001b[0m\u001b[1;33m\u001b[0m\u001b[1;33m\u001b[0m\u001b[0m\n\u001b[0m",
      "\u001b[1;31mTypeError\u001b[0m: list indices must be integers or slices, not list"
     ]
    }
   ],
   "metadata": {}
  },
  {
   "cell_type": "code",
   "execution_count": null,
   "source": [],
   "outputs": [],
   "metadata": {}
  }
 ],
 "metadata": {
  "orig_nbformat": 4,
  "language_info": {
   "name": "python",
   "version": "3.9.6",
   "mimetype": "text/x-python",
   "codemirror_mode": {
    "name": "ipython",
    "version": 3
   },
   "pygments_lexer": "ipython3",
   "nbconvert_exporter": "python",
   "file_extension": ".py"
  },
  "kernelspec": {
   "name": "python3",
   "display_name": "Python 3.9.6 64-bit ('AI': conda)"
  },
  "interpreter": {
   "hash": "fda7c9719fce10a66e94bfe331e7b4d1cdd4aec76db5a8a650c67c0af0f14437"
  }
 },
 "nbformat": 4,
 "nbformat_minor": 2
}